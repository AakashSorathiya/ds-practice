{
 "cells": [
  {
   "cell_type": "markdown",
   "id": "d15c37bc-1e73-4b30-a2de-96412ba48912",
   "metadata": {},
   "source": [
    "### Syntax"
   ]
  },
  {
   "cell_type": "code",
   "execution_count": 1,
   "id": "a658f3d4-371d-4a47-84f6-7c00f8bc6d9f",
   "metadata": {
    "collapsed": true,
    "jupyter": {
     "outputs_hidden": true
    }
   },
   "outputs": [
    {
     "name": "stdout",
     "output_type": "stream",
     "text": [
      "Odd number:  1\n",
      "Even number:  2\n",
      "Odd number:  3\n",
      "Even number:  4\n",
      "Odd number:  5\n",
      "Even number:  6\n",
      "Odd number:  7\n"
     ]
    }
   ],
   "source": [
    "numbers: list = [1, 2, 3, 4, 5, 6, 7]\n",
    "for n in numbers:\n",
    "    if(n%2 == 0):\n",
    "        print(\"Even number: \", n)\n",
    "    else:\n",
    "        print(\"Odd number: \", n)"
   ]
  },
  {
   "cell_type": "markdown",
   "id": "22dd3159-eacd-4821-ac67-059d8e09cc28",
   "metadata": {},
   "source": [
    "### Imports"
   ]
  },
  {
   "cell_type": "code",
   "execution_count": 3,
   "id": "93ccf985-137d-46b3-9ba6-450aec6bdddf",
   "metadata": {
    "collapsed": true,
    "jupyter": {
     "outputs_hidden": true
    }
   },
   "outputs": [
    {
     "name": "stdout",
     "output_type": "stream",
     "text": [
      "[21.24129031 20.86774231 26.12820522 33.26650456 20.31105702 26.42678628\n",
      " 31.94633013 22.24351181 27.00074764 22.04015213]\n"
     ]
    }
   ],
   "source": [
    "import numpy as np\n",
    "\n",
    "randomVars: list = np.random.normal(25.0, 5.0, 10) # first arg represent mean of all the variables, 2nd is standard deviation and 3rd is number of variables\n",
    "print(randomVars)"
   ]
  },
  {
   "cell_type": "markdown",
   "id": "b433cbca-b641-4454-ac28-5fce214aea6e",
   "metadata": {},
   "source": [
    "### Lists"
   ]
  },
  {
   "cell_type": "code",
   "execution_count": 23,
   "id": "4d6afdca-cf49-49da-a3b5-442cecd218de",
   "metadata": {},
   "outputs": [
    {
     "name": "stdout",
     "output_type": "stream",
     "text": [
      "7\n",
      "[4, 5, 6, 7]\n",
      "[1, 2, 3]\n",
      "[2, 3, 4]\n",
      "[6, 7]\n",
      "[3, 4, 5]\n",
      "[1, 2, 3, 4, 5, 6, 7, 8, 9]\n",
      "[1, 2, 3, 4, 5, 6, 7, 8, 9, 10]\n",
      "[11, 12, 13]\n",
      "[[1, 2, 3, 4, 5, 6, 7, 8, 9, 10], [11, 12, 13]]\n",
      "[1, 2, 3, 4, 5, 6, 7, 8, 9, 10]\n",
      "2\n",
      "[0, 1, 4, 9]\n",
      "[9, 4, 1, 0]\n"
     ]
    }
   ],
   "source": [
    "x: list = [1, 2, 3, 4, 5, 6, 7]\n",
    "print(len(x))\n",
    "print(x[3:])\n",
    "print(x[:3])\n",
    "print(x[1:4])\n",
    "print(x[-2:])\n",
    "print(x[-5:-2])\n",
    "\n",
    "x.extend([8, 9])\n",
    "print(x)\n",
    "\n",
    "x.append(10)\n",
    "print(x)\n",
    "\n",
    "y: list = [11, 12, 13]\n",
    "print(y)\n",
    "\n",
    "z_2d: list = [x, y]\n",
    "print(z_2d)\n",
    "print(z_2d[0])\n",
    "print(z_2d[0][1])\n",
    "\n",
    "a: list = [9,4,0,1]\n",
    "a.sort()\n",
    "print(a)\n",
    "a.sort(reverse=True)\n",
    "print(a)"
   ]
  },
  {
   "cell_type": "markdown",
   "id": "e221201a-297f-48da-898f-f06191b92ddd",
   "metadata": {},
   "source": [
    "### Tuples"
   ]
  },
  {
   "cell_type": "code",
   "execution_count": 37,
   "id": "50d1d147-8d3b-4735-90bf-582ac7c0a4db",
   "metadata": {},
   "outputs": [
    {
     "name": "stdout",
     "output_type": "stream",
     "text": [
      "3\n",
      "2\n",
      "(2, 4)\n",
      "[(3, 5, 9, 6), (1, 2, 4)]\n",
      "[(1, 2, 4), (3, 5, 9, 6)]\n",
      "32 10000\n"
     ]
    }
   ],
   "source": [
    "x: tuple = (1, 2, 4)\n",
    "print(len(x))\n",
    "print(x[1])\n",
    "print(x[1:])\n",
    "\n",
    "y: tuple = (3, 5, 9, 6)\n",
    "listOfT: list = [y, x]\n",
    "print(listOfT)\n",
    "listOfT.sort()\n",
    "print(listOfT)\n",
    "\n",
    "s: str = \"32, 10000\"\n",
    "(age, income) = s.split(\",\") #string to tuple\n",
    "print(age.strip(), income.strip())"
   ]
  },
  {
   "cell_type": "markdown",
   "id": "9bc68791-30b3-4857-a698-adf019a03d33",
   "metadata": {},
   "source": [
    "### Dictionaries"
   ]
  },
  {
   "cell_type": "code",
   "execution_count": 41,
   "id": "29a00e5c-5cee-4b37-aeb0-94b685d4e49b",
   "metadata": {},
   "outputs": [
    {
     "name": "stdout",
     "output_type": "stream",
     "text": [
      "C\n",
      "A\n",
      "None\n",
      "a A\n",
      "b B\n",
      "c C\n"
     ]
    }
   ],
   "source": [
    "d: dict = {}\n",
    "d[\"a\"] = \"A\"\n",
    "d[\"b\"] = \"B\"\n",
    "d[\"c\"] = \"C\"\n",
    "\n",
    "print(d[\"c\"])\n",
    "print(d.get(\"a\"))\n",
    "print(d.get(\"d\"))\n",
    "\n",
    "for char in d:\n",
    "    print(char, d.get(char))"
   ]
  },
  {
   "cell_type": "markdown",
   "id": "7d050ed4-638b-445f-8ff3-a92963a85794",
   "metadata": {},
   "source": [
    "### Functions"
   ]
  },
  {
   "cell_type": "code",
   "execution_count": 7,
   "id": "9a33a4d3-8e6c-4334-a093-74782b607eb8",
   "metadata": {},
   "outputs": [
    {
     "name": "stdout",
     "output_type": "stream",
     "text": [
      "4\n",
      "4\n",
      "8\n"
     ]
    }
   ],
   "source": [
    "def sqrt_fun(x: int) -> int:\n",
    "    return x*x\n",
    "\n",
    "def fun_as_param(func: callable, x: int) -> int:\n",
    "    return func(x)\n",
    "\n",
    "print(sqrt_fun(2))\n",
    "print(fun_as_param(sqrt_fun, 2))\n",
    "print(fun_as_param(lambda x: x*x*x, 2))"
   ]
  },
  {
   "cell_type": "markdown",
   "id": "e8046456-7c2c-4a42-b62e-34329be65166",
   "metadata": {},
   "source": [
    "### Booleans"
   ]
  },
  {
   "cell_type": "code",
   "execution_count": 3,
   "id": "f35ea806-f1bb-4ac6-8bff-1e0285fd8759",
   "metadata": {},
   "outputs": [
    {
     "name": "stdout",
     "output_type": "stream",
     "text": [
      "False\n",
      "True\n",
      "False\n",
      "True\n"
     ]
    }
   ],
   "source": [
    "print(1 == 3)\n",
    "print(True or False)\n",
    "# print(1 is 3)\n",
    "# print(1 is not 3)\n",
    "\n",
    "greetings: str = \"Hello world\"\n",
    "a: str = repr(greetings)\n",
    "b: str = repr(greetings)\n",
    "print(a is b)  #checks identity -> same object in the memory\n",
    "print(a == b)  #checks content of the object"
   ]
  },
  {
   "cell_type": "markdown",
   "id": "bbd108fb-2be5-4a28-9dd8-b107345e8ab8",
   "metadata": {},
   "source": [
    "### Loops"
   ]
  },
  {
   "cell_type": "code",
   "execution_count": 2,
   "id": "61959c8d-799b-4530-88c6-9038314643ab",
   "metadata": {},
   "outputs": [
    {
     "name": "stdout",
     "output_type": "stream",
     "text": [
      "Even:  0\n",
      "Even:  2\n",
      "Even:  4\n",
      "Even:  6\n",
      "Even:  8\n",
      "Odd:  1\n",
      "Odd:  3\n",
      "Odd:  5\n",
      "Odd:  7\n",
      "Odd:  9\n"
     ]
    }
   ],
   "source": [
    "for x in range(10):\n",
    "    if(x%2 == 0):\n",
    "        print(\"Even: \", x)\n",
    "\n",
    "x: int = 0\n",
    "while(x<10):\n",
    "    if(x%2 != 0):\n",
    "        print(\"Odd: \", x)\n",
    "    x+=1"
   ]
  },
  {
   "cell_type": "code",
   "execution_count": null,
   "id": "db997175-e6e6-4959-a4a0-ea5122885e8f",
   "metadata": {},
   "outputs": [],
   "source": []
  }
 ],
 "metadata": {
  "kernelspec": {
   "display_name": "Python 3 (ipykernel)",
   "language": "python",
   "name": "python3"
  },
  "language_info": {
   "codemirror_mode": {
    "name": "ipython",
    "version": 3
   },
   "file_extension": ".py",
   "mimetype": "text/x-python",
   "name": "python",
   "nbconvert_exporter": "python",
   "pygments_lexer": "ipython3",
   "version": "3.9.13"
  }
 },
 "nbformat": 4,
 "nbformat_minor": 5
}
